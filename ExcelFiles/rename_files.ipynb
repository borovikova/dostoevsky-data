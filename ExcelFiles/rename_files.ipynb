{
 "cells": [
  {
   "cell_type": "code",
   "execution_count": 1,
   "metadata": {},
   "outputs": [],
   "source": [
    "import os\n",
    "import re"
   ]
  },
  {
   "cell_type": "code",
   "execution_count": 2,
   "metadata": {},
   "outputs": [],
   "source": [
    "files = os.listdir('Main')\n",
    "for file in files:\n",
    "    year = re.search(r'\\d{4}', file)\n",
    "    if year:\n",
    "        os.rename('Main/' + file, 'Main/' + year.group() + 'main.xls')\n",
    "\n",
    "files_add = os.listdir('MainParameters')\n",
    "for file in files_add:\n",
    "    year = re.search(r'\\d{4}', file)\n",
    "    if year:\n",
    "        os.rename('MainParameters/' + file, 'MainParameters/' + year.group() + 'parameters.xls')\n",
    "        \n",
    "        \n",
    "files = os.listdir('Add')\n",
    "for file in files:\n",
    "    year = re.search(r'\\d{4}', file)\n",
    "    if year:\n",
    "        os.rename('Add/' + file, 'Add/' + year.group() + 'add.xls')"
   ]
  },
  {
   "cell_type": "code",
   "execution_count": null,
   "metadata": {
    "collapsed": true
   },
   "outputs": [],
   "source": []
  }
 ],
 "metadata": {
  "kernelspec": {
   "display_name": "katia",
   "language": "python",
   "name": "katia"
  },
  "language_info": {
   "codemirror_mode": {
    "name": "ipython",
    "version": 3
   },
   "file_extension": ".py",
   "mimetype": "text/x-python",
   "name": "python",
   "nbconvert_exporter": "python",
   "pygments_lexer": "ipython3",
   "version": "3.7.7"
  }
 },
 "nbformat": 4,
 "nbformat_minor": 2
}
